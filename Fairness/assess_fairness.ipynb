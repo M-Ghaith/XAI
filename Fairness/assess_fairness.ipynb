{
 "cells": [
  {
   "cell_type": "markdown",
   "metadata": {},
   "source": [
    "## Evaluating Fairness Issues using Fairness Metrics\n",
    "Here, and on a synthetic data for AI-based loan approval system, we try to demonstrate how to use the fairness metrics available in Fairlearn package to evaluate the fairness of an ML model.\n"
   ]
  },
  {
   "cell_type": "code",
   "execution_count": 1,
   "metadata": {
    "ExecuteTime": {
     "end_time": "2024-01-10T20:21:31.048473Z",
     "start_time": "2024-01-10T20:21:26.807704Z"
    }
   },
   "outputs": [
    {
     "name": "stdout",
     "output_type": "stream",
     "text": [
      "Requirement already satisfied: fairlearn in /Users/ghaithalseirawan/anaconda3/lib/python3.11/site-packages (0.9.0)\r\n",
      "Requirement already satisfied: numpy>=1.18.0 in /Users/ghaithalseirawan/anaconda3/lib/python3.11/site-packages (from fairlearn) (1.24.3)\r\n",
      "Requirement already satisfied: pandas>=0.25.2 in /Users/ghaithalseirawan/anaconda3/lib/python3.11/site-packages (from fairlearn) (1.5.3)\r\n",
      "Requirement already satisfied: scikit-learn>=0.22.1 in /Users/ghaithalseirawan/anaconda3/lib/python3.11/site-packages (from fairlearn) (1.3.2)\r\n",
      "Requirement already satisfied: scipy>=1.5.0 in /Users/ghaithalseirawan/anaconda3/lib/python3.11/site-packages (from fairlearn) (1.11.1)\r\n",
      "Requirement already satisfied: python-dateutil>=2.8.1 in /Users/ghaithalseirawan/anaconda3/lib/python3.11/site-packages (from pandas>=0.25.2->fairlearn) (2.8.2)\r\n",
      "Requirement already satisfied: pytz>=2020.1 in /Users/ghaithalseirawan/anaconda3/lib/python3.11/site-packages (from pandas>=0.25.2->fairlearn) (2023.3.post1)\r\n",
      "Requirement already satisfied: joblib>=1.1.1 in /Users/ghaithalseirawan/anaconda3/lib/python3.11/site-packages (from scikit-learn>=0.22.1->fairlearn) (1.2.0)\r\n",
      "Requirement already satisfied: threadpoolctl>=2.0.0 in /Users/ghaithalseirawan/anaconda3/lib/python3.11/site-packages (from scikit-learn>=0.22.1->fairlearn) (2.2.0)\r\n",
      "Requirement already satisfied: six>=1.5 in /Users/ghaithalseirawan/anaconda3/lib/python3.11/site-packages (from python-dateutil>=2.8.1->pandas>=0.25.2->fairlearn) (1.16.0)\r\n"
     ]
    }
   ],
   "source": [
    "# Installing the fairlearn package\n",
    "!pip install fairlearn"
   ]
  },
  {
   "cell_type": "code",
   "execution_count": 2,
   "metadata": {
    "ExecuteTime": {
     "end_time": "2024-01-10T20:21:53.236529Z",
     "start_time": "2024-01-10T20:21:33.042628Z"
    }
   },
   "outputs": [],
   "source": [
    "import numpy as np\n",
    "import pandas as pd\n",
    "from sklearn.ensemble import RandomForestClassifier\n",
    "from sklearn.model_selection import train_test_split\n",
    "from sklearn.metrics import balanced_accuracy_score, precision_score, roc_auc_score\n",
    "from fairlearn.metrics import MetricFrame, selection_rate, demographic_parity_difference, equalized_odds_difference\n",
    "from fairlearn.metrics import demographic_parity_ratio, equalized_odds_ratio"
   ]
  },
  {
   "cell_type": "markdown",
   "metadata": {},
   "source": [
    "### Synthetic data\n",
    "In a real-world loan approval scenario, various features could be used to predict whether or not an individual should be approved for a loan. A sensitive feature like sex could be a source of unfairness in the model's predictions.\n",
    "\n",
    "In this synthetic example, let's say we have four features that represent an applicant's financial health: credit score, annual income, employment history, and interest rate. We'll use sex as the sensitive attribute. The model is trained to predict loan approval (1 for approval, 0 for denial).\n",
    "\n",
    "To introduce synthetic bias in our data, we assume females have on average higher interest rates in their previous loans, thus less chance to recive a new one.\n",
    "\n",
    "Plotting the selection rates across two groups opviusly shows a bias toward male applicants."
   ]
  },
  {
   "cell_type": "code",
   "execution_count": 3,
   "metadata": {
    "ExecuteTime": {
     "end_time": "2024-01-10T20:21:54.762651Z",
     "start_time": "2024-01-10T20:21:53.236306Z"
    }
   },
   "outputs": [
    {
     "data": {
      "text/plain": "<Figure size 640x480 with 1 Axes>",
      "image/png": "[encoded data removed]"
     },
     "metadata": {},
     "output_type": "display_data"
    }
   ],
   "source": [
    "# Generate synthetic data\n",
    "np.random.seed(42)\n",
    "n = 1000\n",
    "\n",
    "# Generate synthetic features:\n",
    "# - Credit score (normally around 300-850)\n",
    "# - Annual income in thousands (normally around mean of $50k with std dev of $15k)\n",
    "# - Employment history in years (normally around 0-40)\n",
    "X = pd.DataFrame({\n",
    "    'Credit_Score': np.random.normal(650, 100, n),\n",
    "    'Annual_Income_k': np.random.normal(50, 15, n),\n",
    "    'Employment_History_y': np.random.normal(20, 10, n),\n",
    "    'Interest_Rate': np.random.normal(5, 1, n),\n",
    "    'Sex': np.random.choice([0, 1], n)  # 0 for 'Male', 1 for 'Female'\n",
    "})\n",
    "\n",
    "# Introduce a bias in the 'Interest_Rate' feature based on the sensitive attribute 'Sex'\n",
    "X.loc[X['Sex'] == 1, 'Interest_Rate'] += 2  # Females have higher interest rates on average\n",
    "\n",
    "# Introduce a strong bias in the label (loan approval) based on the sensitive attribute (sex)\n",
    "threshold_male = 1.5  # A relatively low bar for males\n",
    "threshold_female = 2.0  # A higher bar for females\n",
    "\n",
    "# Calculate a synthetic loan approval decision based on the financial features and bias\n",
    "\n",
    "y = pd.DataFrame({'Loan_Approval':np.zeros(X.shape[0])})\n",
    "y.loc[(X['Sex'] == 0) & (X['Credit_Score']/650 + X['Annual_Income_k']/50 > threshold_male), 'Loan_Approval'] = 1\n",
    "y.loc[(X['Sex'] == 1) & (X['Credit_Score']/650 + X['Annual_Income_k']/50 > threshold_female), 'Loan_Approval'] = 1\n",
    "\n",
    "selection_rates = MetricFrame(\n",
    "    metrics=selection_rate, y_true=y['Loan_Approval'], y_pred=y['Loan_Approval'], sensitive_features=X['Sex']\n",
    ")\n",
    "\n",
    "fig = selection_rates.by_group.plot.bar(\n",
    "    legend=False, rot=0, title=\"Fraction of Loan Approvals\", ylabel='Selection Rate'\n",
    ")"
   ]
  },
  {
   "cell_type": "markdown",
   "metadata": {},
   "source": [
    "We split the data into training and test set and remove the `Sex` because we know it is a senstive feature and might cause a bias in decision making. But does this solve the our problem? Let's see!"
   ]
  },
  {
   "cell_type": "code",
   "execution_count": 4,
   "metadata": {
    "ExecuteTime": {
     "end_time": "2024-01-10T20:22:03.873516Z",
     "start_time": "2024-01-10T20:22:03.869725Z"
    }
   },
   "outputs": [],
   "source": [
    "# Split data\n",
    "X_train, X_test, y_train, y_test = train_test_split(X, y, test_size=0.2, random_state=42)\n",
    "\n",
    "# \n",
    "X_train = X_train.drop(columns=['Sex'])\n",
    "sensitive_test = X_test['Sex']\n",
    "X_test = X_test.drop(columns=['Sex'])\n"
   ]
  },
  {
   "cell_type": "markdown",
   "metadata": {},
   "source": [
    "We train a random forest classifier and evaluates its performance in terms of balanced accuracy and AUC:"
   ]
  },
  {
   "cell_type": "code",
   "execution_count": 5,
   "metadata": {
    "ExecuteTime": {
     "end_time": "2024-01-10T20:22:07.625971Z",
     "start_time": "2024-01-10T20:22:07.506583Z"
    }
   },
   "outputs": [
    {
     "name": "stdout",
     "output_type": "stream",
     "text": [
      "Accuracy: 0.8720238095238095\n",
      "AUC: 0.9546130952380952\n"
     ]
    },
    {
     "name": "stderr",
     "output_type": "stream",
     "text": [
      "/Users/ghaithalseirawan/anaconda3/lib/python3.11/site-packages/sklearn/base.py:1152: DataConversionWarning: A column-vector y was passed when a 1d array was expected. Please change the shape of y to (n_samples,), for example using ravel().\n",
      "  return fit_method(estimator, *args, **kwargs)\n"
     ]
    }
   ],
   "source": [
    "# Train a random forest classifier\n",
    "clf = RandomForestClassifier(random_state=42)\n",
    "clf.fit(X_train, y_train)\n",
    "\n",
    "y_pred = clf.predict(X_test)\n",
    "y_pred_prob = clf.predict_proba(X_test)[:,1]\n",
    "\n",
    "# Measure accuracy\n",
    "accuracy = balanced_accuracy_score(y_test, y_pred)\n",
    "print(f\"Accuracy: {accuracy}\")\n",
    "\n",
    "# Measure AUC\n",
    "auc = roc_auc_score(y_test, y_pred_prob)\n",
    "print(f\"AUC: {auc}\")"
   ]
  },
  {
   "cell_type": "markdown",
   "metadata": {},
   "source": [
    "Now lets use the tools available in Fairlearn to visualize different fairness-related measures:"
   ]
  },
  {
   "cell_type": "code",
   "execution_count": 6,
   "metadata": {
    "ExecuteTime": {
     "end_time": "2024-01-10T20:22:10.742725Z",
     "start_time": "2024-01-10T20:22:10.454964Z"
    }
   },
   "outputs": [
    {
     "data": {
      "text/plain": "array([[<Axes: title={'center': 'accuracy'}, xlabel='Sex'>,\n        <Axes: title={'center': 'precision'}, xlabel='Sex'>,\n        <Axes: title={'center': 'false positive rate'}, xlabel='Sex'>],\n       [<Axes: title={'center': 'false negative rate'}, xlabel='Sex'>,\n        <Axes: title={'center': 'selection rate'}, xlabel='Sex'>,\n        <Axes: xlabel='Sex'>],\n       [<Axes: xlabel='Sex'>, <Axes: xlabel='Sex'>, <Axes: xlabel='Sex'>]],\n      dtype=object)"
     },
     "execution_count": 6,
     "metadata": {},
     "output_type": "execute_result"
    },
    {
     "data": {
      "text/plain": "<Figure size 1200x800 with 9 Axes>",
      "image/png": "[encoded data removed]"
     },
     "metadata": {},
     "output_type": "display_data"
    }
   ],
   "source": [
    "from fairlearn.metrics import (\n",
    "    MetricFrame,\n",
    "    count,\n",
    "    false_negative_rate,\n",
    "    false_positive_rate,\n",
    "    selection_rate,\n",
    ")\n",
    "# Analyze metrics using MetricFrame\n",
    "metrics = {\n",
    "    \"accuracy\": balanced_accuracy_score,\n",
    "    \"precision\": precision_score,\n",
    "    \"false positive rate\": false_positive_rate,\n",
    "    \"false negative rate\": false_negative_rate,\n",
    "    \"selection rate\": selection_rate,\n",
    "}\n",
    "metric_frame = MetricFrame(\n",
    "    metrics=metrics, y_true=y_test, y_pred=y_pred, sensitive_features=sensitive_test\n",
    ")\n",
    "metric_frame.by_group.plot.bar(\n",
    "    subplots=True,\n",
    "    layout=[3, 3],\n",
    "    legend=False,\n",
    "    figsize=[12, 8],\n",
    "    ylim=[0,1.05],\n",
    "    title=\"Show all metrics\",\n",
    ")\n"
   ]
  },
  {
   "cell_type": "markdown",
   "metadata": {},
   "source": [
    "Now, lets quantify the fairness metrics:"
   ]
  },
  {
   "cell_type": "code",
   "execution_count": 7,
   "metadata": {
    "ExecuteTime": {
     "end_time": "2024-01-10T20:23:34.873497Z",
     "start_time": "2024-01-10T20:23:34.831244Z"
    }
   },
   "outputs": [
    {
     "name": "stdout",
     "output_type": "stream",
     "text": [
      "Statistical Parity Difference: 0.3004807692307693\n",
      "Statistical Parity ratio: 0.6639784946236559\n",
      "Equalized Odds Difference: 0.24\n",
      "Equalized Odds Ratio: 0.0\n"
     ]
    }
   ],
   "source": [
    "\n",
    "# Statistical Parity\n",
    "stat_parity_diff = demographic_parity_difference(y_test, y_pred, sensitive_features=sensitive_test)\n",
    "print(f\"Statistical Parity Difference: {stat_parity_diff}\")\n",
    "\n",
    "stat_parity_rto = demographic_parity_ratio(y_test, y_pred, sensitive_features=sensitive_test)\n",
    "print(f\"Statistical Parity ratio: {stat_parity_rto}\")\n",
    "\n",
    "# Equalized Odds\n",
    "equal_odds_diff = equalized_odds_difference(y_test, y_pred, sensitive_features=sensitive_test)\n",
    "print(f\"Equalized Odds Difference: {equal_odds_diff}\")\n",
    "\n",
    "equal_odds_rto = equalized_odds_ratio(y_test, y_pred, sensitive_features=sensitive_test)\n",
    "print(f\"Equalized Odds Ratio: {equal_odds_rto}\")"
   ]
  }
 ],
 "metadata": {
  "kernelspec": {
   "display_name": "Python 3 (ipykernel)",
   "language": "python",
   "name": "python3"
  },
  "language_info": {
   "codemirror_mode": {
    "name": "ipython",
    "version": 3
   },
   "file_extension": ".py",
   "mimetype": "text/x-python",
   "name": "python",
   "nbconvert_exporter": "python",
   "pygments_lexer": "ipython3",
   "version": "3.9.7"
  }
 },
 "nbformat": 4,
 "nbformat_minor": 4
}
