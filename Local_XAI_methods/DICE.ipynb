{
 "cells": [
  {
   "cell_type": "markdown",
   "metadata": {},
   "source": [
    "## DICE: Diverse Counterfactual Explanation)\n",
    "\n",
    "SHAP (SHapley Additive exPlanations) is another popular method for explaining machine learning models. It provides a unified measure of feature importance and can be used for both classification and regression models. Below is an example of how to use SHAP with a RandomForestClassifier for the binary classification problem.\n",
    "\n",
    "In this code:\n",
    "\n",
    "* We set a binary threshold on the median of y to create a binary classification target variable y_binary, where data points with y values above the median are labeled as 1 (high risk), and data points below or equal to the median are labeled as 0 (low risk).\n",
    "\n",
    "* We train a Gradient Boosting CLassifier on the modified target variable y_binary.\n",
    "\n",
    "* We calculate the accuracy score on the test data to evaluate the classifier's performance.\n",
    "\n",
    "* We create a DICE explainer using dice_ml.Dice. We specify the model, backend, data, data type, and target name.\n",
    "\n",
    "* We use DICE's generate_counterfactuals function to generate counterfactual explanations for the chosen prediction."
   ]
  },
  {
   "cell_type": "code",
   "execution_count": 1,
   "metadata": {
    "ExecuteTime": {
     "end_time": "2024-01-10T17:48:01.758512Z",
     "start_time": "2024-01-10T17:47:46.507978Z"
    }
   },
   "outputs": [
    {
     "name": "stdout",
     "output_type": "stream",
     "text": [
      "Collecting dice_ml\r\n",
      "  Obtaining dependency information for dice_ml from https://files.pythonhosted.org/packages/69/1c/ec136743072d7b4917d72d975e094c8dc9bce86920519aff97854a7dc3ce/dice_ml-0.11-py3-none-any.whl.metadata\r\n",
      "  Downloading dice_ml-0.11-py3-none-any.whl.metadata (20 kB)\r\n",
      "Requirement already satisfied: jsonschema in /Users/ghaithalseirawan/anaconda3/lib/python3.11/site-packages (from dice_ml) (4.17.3)\r\n",
      "Requirement already satisfied: numpy in /Users/ghaithalseirawan/anaconda3/lib/python3.11/site-packages (from dice_ml) (1.24.3)\r\n",
      "Collecting pandas<2.0.0 (from dice_ml)\r\n",
      "  Downloading pandas-1.5.3-cp311-cp311-macosx_11_0_arm64.whl (10.8 MB)\r\n",
      "\u001B[2K     \u001B[90m━━━━━━━━━━━━━━━━━━━━━━━━━━━━━━━━━━━━━━━━\u001B[0m \u001B[32m10.8/10.8 MB\u001B[0m \u001B[31m18.3 MB/s\u001B[0m eta \u001B[36m0:00:00\u001B[0m00:01\u001B[0m0:01\u001B[0m\r\n",
      "\u001B[?25hRequirement already satisfied: scikit-learn in /Users/ghaithalseirawan/anaconda3/lib/python3.11/site-packages (from dice_ml) (1.3.2)\r\n",
      "Requirement already satisfied: tqdm in /Users/ghaithalseirawan/anaconda3/lib/python3.11/site-packages (from dice_ml) (4.65.0)\r\n",
      "Collecting raiutils>=0.4.0 (from dice_ml)\r\n",
      "  Obtaining dependency information for raiutils>=0.4.0 from https://files.pythonhosted.org/packages/b9/56/93e179d1702ebf669f158b29f14d43cf340ccf5fa50c774c3e571caf4e61/raiutils-0.4.1-py3-none-any.whl.metadata\r\n",
      "  Downloading raiutils-0.4.1-py3-none-any.whl.metadata (1.4 kB)\r\n",
      "Requirement already satisfied: python-dateutil>=2.8.1 in /Users/ghaithalseirawan/anaconda3/lib/python3.11/site-packages (from pandas<2.0.0->dice_ml) (2.8.2)\r\n",
      "Requirement already satisfied: pytz>=2020.1 in /Users/ghaithalseirawan/anaconda3/lib/python3.11/site-packages (from pandas<2.0.0->dice_ml) (2023.3.post1)\r\n",
      "Requirement already satisfied: requests in /Users/ghaithalseirawan/anaconda3/lib/python3.11/site-packages (from raiutils>=0.4.0->dice_ml) (2.31.0)\r\n",
      "Requirement already satisfied: scipy in /Users/ghaithalseirawan/anaconda3/lib/python3.11/site-packages (from raiutils>=0.4.0->dice_ml) (1.11.1)\r\n",
      "Requirement already satisfied: attrs>=17.4.0 in /Users/ghaithalseirawan/anaconda3/lib/python3.11/site-packages (from jsonschema->dice_ml) (22.1.0)\r\n",
      "Requirement already satisfied: pyrsistent!=0.17.0,!=0.17.1,!=0.17.2,>=0.14.0 in /Users/ghaithalseirawan/anaconda3/lib/python3.11/site-packages (from jsonschema->dice_ml) (0.18.0)\r\n",
      "Requirement already satisfied: joblib>=1.1.1 in /Users/ghaithalseirawan/anaconda3/lib/python3.11/site-packages (from scikit-learn->dice_ml) (1.2.0)\r\n",
      "Requirement already satisfied: threadpoolctl>=2.0.0 in /Users/ghaithalseirawan/anaconda3/lib/python3.11/site-packages (from scikit-learn->dice_ml) (2.2.0)\r\n",
      "Requirement already satisfied: six>=1.5 in /Users/ghaithalseirawan/anaconda3/lib/python3.11/site-packages (from python-dateutil>=2.8.1->pandas<2.0.0->dice_ml) (1.16.0)\r\n",
      "Requirement already satisfied: charset-normalizer<4,>=2 in /Users/ghaithalseirawan/anaconda3/lib/python3.11/site-packages (from requests->raiutils>=0.4.0->dice_ml) (2.0.4)\r\n",
      "Requirement already satisfied: idna<4,>=2.5 in /Users/ghaithalseirawan/anaconda3/lib/python3.11/site-packages (from requests->raiutils>=0.4.0->dice_ml) (3.4)\r\n",
      "Requirement already satisfied: urllib3<3,>=1.21.1 in /Users/ghaithalseirawan/anaconda3/lib/python3.11/site-packages (from requests->raiutils>=0.4.0->dice_ml) (1.26.16)\r\n",
      "Requirement already satisfied: certifi>=2017.4.17 in /Users/ghaithalseirawan/anaconda3/lib/python3.11/site-packages (from requests->raiutils>=0.4.0->dice_ml) (2023.11.17)\r\n",
      "Downloading dice_ml-0.11-py3-none-any.whl (2.5 MB)\r\n",
      "\u001B[2K   \u001B[90m━━━━━━━━━━━━━━━━━━━━━━━━━━━━━━━━━━━━━━━━\u001B[0m \u001B[32m2.5/2.5 MB\u001B[0m \u001B[31m28.2 MB/s\u001B[0m eta \u001B[36m0:00:00\u001B[0ma \u001B[36m0:00:01\u001B[0m\r\n",
      "\u001B[?25hDownloading raiutils-0.4.1-py3-none-any.whl (17 kB)\r\n",
      "Installing collected packages: pandas, raiutils, dice_ml\r\n",
      "  Attempting uninstall: pandas\r\n",
      "    Found existing installation: pandas 2.0.3\r\n",
      "    Uninstalling pandas-2.0.3:\r\n",
      "      Successfully uninstalled pandas-2.0.3\r\n",
      "Successfully installed dice_ml-0.11 pandas-1.5.3 raiutils-0.4.1\r\n"
     ]
    }
   ],
   "source": [
    "!pip install dice_ml"
   ]
  },
  {
   "cell_type": "code",
   "execution_count": 2,
   "metadata": {
    "ExecuteTime": {
     "end_time": "2024-01-10T17:48:19.367473Z",
     "start_time": "2024-01-10T17:48:03.218449Z"
    }
   },
   "outputs": [],
   "source": [
    "import numpy as np\n",
    "import pandas as pd\n",
    "from sklearn.datasets import load_diabetes\n",
    "from sklearn.ensemble import GradientBoostingClassifier\n",
    "from sklearn.model_selection import train_test_split\n",
    "from sklearn.metrics import accuracy_score\n",
    "import dice_ml"
   ]
  },
  {
   "cell_type": "code",
   "execution_count": 3,
   "outputs": [
    {
     "name": "stdout",
     "output_type": "stream",
     "text": [
      "Accuracy on Test Data: 0.7191011235955056\n"
     ]
    }
   ],
   "source": [
    "random_state = 42\n",
    "\n",
    "# Load the Diabetes dataset\n",
    "diabetes_data = load_diabetes()\n",
    "X = pd.DataFrame(diabetes_data.data, columns=diabetes_data.feature_names)\n",
    "y = diabetes_data.target\n",
    "\n",
    "# Set a threshold for binary classification (e.g., using the median of y)\n",
    "threshold = np.median(y)\n",
    "y_binary = (y > threshold).astype(int)  # 1 for high risk, 0 for low risk\n",
    "\n",
    "# Split the data into training and testing sets\n",
    "X_train, X_test, y_train, y_test = train_test_split(X, y_binary, test_size=0.2, random_state=random_state)\n",
    "\n",
    "# Create and fit the Random Forest Classifier model\n",
    "model = GradientBoostingClassifier(n_estimators=100, random_state=random_state)\n",
    "model.fit(X_train, y_train)\n",
    "\n",
    "# Make predictions on the test set\n",
    "y_pred = model.predict(X_test)\n",
    "y_pred_prob = model.predict_proba(X_test)\n",
    "\n",
    "# Calculate accuracy score\n",
    "accuracy = accuracy_score(y_test, y_pred)  # Use binary target variable here\n",
    "print(\"Accuracy on Test Data:\", accuracy)"
   ],
   "metadata": {
    "collapsed": false,
    "ExecuteTime": {
     "end_time": "2024-01-10T17:48:24.179279Z",
     "start_time": "2024-01-10T17:48:24.084533Z"
    }
   }
  },
  {
   "cell_type": "code",
   "execution_count": 4,
   "metadata": {
    "ExecuteTime": {
     "end_time": "2024-01-10T17:49:08.181753Z",
     "start_time": "2024-01-10T17:49:08.050396Z"
    }
   },
   "outputs": [
    {
     "name": "stderr",
     "output_type": "stream",
     "text": [
      "100%|██████████| 1/1 [00:00<00:00, 15.96it/s]"
     ]
    },
    {
     "name": "stdout",
     "output_type": "stream",
     "text": [
      "Query instance (original outcome : 0)\n"
     ]
    },
    {
     "name": "stderr",
     "output_type": "stream",
     "text": [
      "\n"
     ]
    },
    {
     "data": {
      "text/plain": "        age       sex       bmi        bp        s1        s2        s3  \\\n0  0.045341 -0.044642 -0.006206 -0.015999  0.125019  0.125198  0.019187   \n\n         s4        s5       s6  target  \n0  0.034309  0.032432 -0.00522       0  ",
      "text/html": "<div>\n<style scoped>\n    .dataframe tbody tr th:only-of-type {\n        vertical-align: middle;\n    }\n\n    .dataframe tbody tr th {\n        vertical-align: top;\n    }\n\n    .dataframe thead th {\n        text-align: right;\n    }\n</style>\n<table border=\"1\" class=\"dataframe\">\n  <thead>\n    <tr style=\"text-align: right;\">\n      <th></th>\n      <th>age</th>\n      <th>sex</th>\n      <th>bmi</th>\n      <th>bp</th>\n      <th>s1</th>\n      <th>s2</th>\n      <th>s3</th>\n      <th>s4</th>\n      <th>s5</th>\n      <th>s6</th>\n      <th>target</th>\n    </tr>\n  </thead>\n  <tbody>\n    <tr>\n      <th>0</th>\n      <td>0.045341</td>\n      <td>-0.044642</td>\n      <td>-0.006206</td>\n      <td>-0.015999</td>\n      <td>0.125019</td>\n      <td>0.125198</td>\n      <td>0.019187</td>\n      <td>0.034309</td>\n      <td>0.032432</td>\n      <td>-0.00522</td>\n      <td>0</td>\n    </tr>\n  </tbody>\n</table>\n</div>"
     },
     "metadata": {},
     "output_type": "display_data"
    },
    {
     "name": "stdout",
     "output_type": "stream",
     "text": [
      "\n",
      "Diverse Counterfactual set (new outcome: 1)\n"
     ]
    },
    {
     "data": {
      "text/plain": "        age       sex       bmi        bp        s1        s2        s3  \\\n0  0.045341 -0.044642 -0.006206 -0.015999  0.125019  0.068381  0.019187   \n1  0.045341 -0.044642 -0.006206 -0.015999  0.125019  0.013368  0.019187   \n2  0.045341 -0.044642 -0.006206 -0.015999  0.125019  0.125198  0.019187   \n3  0.045341 -0.044642 -0.006206 -0.015999 -0.058066  0.125198  0.019187   \n4  0.045341 -0.044642 -0.006206 -0.015999  0.125019 -0.060902  0.019187   \n5  0.045341 -0.044642 -0.006206  0.054822  0.125019  0.125198 -0.016366   \n6  0.045341 -0.044642 -0.029556 -0.015999  0.125019 -0.093493  0.019187   \n7  0.045341 -0.044642 -0.006206 -0.015999  0.125019  0.125198  0.019187   \n8  0.045341 -0.044642 -0.006206 -0.015999  0.098354  0.051654  0.019187   \n9  0.045341 -0.044642 -0.006206 -0.015999  0.125019  0.125198  0.019187   \n\n         s4        s5        s6  target  \n0  0.034309  0.057561 -0.005220       1  \n1  0.034309  0.032432 -0.005220       1  \n2  0.034309  0.017763  0.115748       1  \n3  0.034309  0.032432 -0.074289       1  \n4  0.034309 -0.117409 -0.005220       1  \n5  0.034309  0.032432 -0.005220       1  \n6  0.034309  0.032432 -0.005220       1  \n7  0.034309  0.032432  0.064414       1  \n8  0.034309  0.032432 -0.005220       1  \n9  0.034309  0.088542 -0.005220       1  ",
      "text/html": "<div>\n<style scoped>\n    .dataframe tbody tr th:only-of-type {\n        vertical-align: middle;\n    }\n\n    .dataframe tbody tr th {\n        vertical-align: top;\n    }\n\n    .dataframe thead th {\n        text-align: right;\n    }\n</style>\n<table border=\"1\" class=\"dataframe\">\n  <thead>\n    <tr style=\"text-align: right;\">\n      <th></th>\n      <th>age</th>\n      <th>sex</th>\n      <th>bmi</th>\n      <th>bp</th>\n      <th>s1</th>\n      <th>s2</th>\n      <th>s3</th>\n      <th>s4</th>\n      <th>s5</th>\n      <th>s6</th>\n      <th>target</th>\n    </tr>\n  </thead>\n  <tbody>\n    <tr>\n      <th>0</th>\n      <td>0.045341</td>\n      <td>-0.044642</td>\n      <td>-0.006206</td>\n      <td>-0.015999</td>\n      <td>0.125019</td>\n      <td>0.068381</td>\n      <td>0.019187</td>\n      <td>0.034309</td>\n      <td>0.057561</td>\n      <td>-0.005220</td>\n      <td>1</td>\n    </tr>\n    <tr>\n      <th>1</th>\n      <td>0.045341</td>\n      <td>-0.044642</td>\n      <td>-0.006206</td>\n      <td>-0.015999</td>\n      <td>0.125019</td>\n      <td>0.013368</td>\n      <td>0.019187</td>\n      <td>0.034309</td>\n      <td>0.032432</td>\n      <td>-0.005220</td>\n      <td>1</td>\n    </tr>\n    <tr>\n      <th>2</th>\n      <td>0.045341</td>\n      <td>-0.044642</td>\n      <td>-0.006206</td>\n      <td>-0.015999</td>\n      <td>0.125019</td>\n      <td>0.125198</td>\n      <td>0.019187</td>\n      <td>0.034309</td>\n      <td>0.017763</td>\n      <td>0.115748</td>\n      <td>1</td>\n    </tr>\n    <tr>\n      <th>3</th>\n      <td>0.045341</td>\n      <td>-0.044642</td>\n      <td>-0.006206</td>\n      <td>-0.015999</td>\n      <td>-0.058066</td>\n      <td>0.125198</td>\n      <td>0.019187</td>\n      <td>0.034309</td>\n      <td>0.032432</td>\n      <td>-0.074289</td>\n      <td>1</td>\n    </tr>\n    <tr>\n      <th>4</th>\n      <td>0.045341</td>\n      <td>-0.044642</td>\n      <td>-0.006206</td>\n      <td>-0.015999</td>\n      <td>0.125019</td>\n      <td>-0.060902</td>\n      <td>0.019187</td>\n      <td>0.034309</td>\n      <td>-0.117409</td>\n      <td>-0.005220</td>\n      <td>1</td>\n    </tr>\n    <tr>\n      <th>5</th>\n      <td>0.045341</td>\n      <td>-0.044642</td>\n      <td>-0.006206</td>\n      <td>0.054822</td>\n      <td>0.125019</td>\n      <td>0.125198</td>\n      <td>-0.016366</td>\n      <td>0.034309</td>\n      <td>0.032432</td>\n      <td>-0.005220</td>\n      <td>1</td>\n    </tr>\n    <tr>\n      <th>6</th>\n      <td>0.045341</td>\n      <td>-0.044642</td>\n      <td>-0.029556</td>\n      <td>-0.015999</td>\n      <td>0.125019</td>\n      <td>-0.093493</td>\n      <td>0.019187</td>\n      <td>0.034309</td>\n      <td>0.032432</td>\n      <td>-0.005220</td>\n      <td>1</td>\n    </tr>\n    <tr>\n      <th>7</th>\n      <td>0.045341</td>\n      <td>-0.044642</td>\n      <td>-0.006206</td>\n      <td>-0.015999</td>\n      <td>0.125019</td>\n      <td>0.125198</td>\n      <td>0.019187</td>\n      <td>0.034309</td>\n      <td>0.032432</td>\n      <td>0.064414</td>\n      <td>1</td>\n    </tr>\n    <tr>\n      <th>8</th>\n      <td>0.045341</td>\n      <td>-0.044642</td>\n      <td>-0.006206</td>\n      <td>-0.015999</td>\n      <td>0.098354</td>\n      <td>0.051654</td>\n      <td>0.019187</td>\n      <td>0.034309</td>\n      <td>0.032432</td>\n      <td>-0.005220</td>\n      <td>1</td>\n    </tr>\n    <tr>\n      <th>9</th>\n      <td>0.045341</td>\n      <td>-0.044642</td>\n      <td>-0.006206</td>\n      <td>-0.015999</td>\n      <td>0.125019</td>\n      <td>0.125198</td>\n      <td>0.019187</td>\n      <td>0.034309</td>\n      <td>0.088542</td>\n      <td>-0.005220</td>\n      <td>1</td>\n    </tr>\n  </tbody>\n</table>\n</div>"
     },
     "metadata": {},
     "output_type": "display_data"
    }
   ],
   "source": [
    "# Create a DICE data interface\n",
    "d = dice_ml.Data(dataframe=pd.concat([X,pd.DataFrame({'target':y_train})], axis=1), \n",
    "                 features={\n",
    "                   'age':[1, 130],\n",
    "                   'bmi': [10,50],\n",
    "                   'bp': [50,200],\n",
    "                   },\n",
    "                 continuous_features=['age', 'bmi', 'bp', 's1', 's2', 's3', 's4', 's5', 's6'], \n",
    "                 outcome_name='target')\n",
    "\n",
    "# Create a DICE model interface\n",
    "m = dice_ml.Model(model=model, backend=\"sklearn\")\n",
    "\n",
    "# Create a DICE explainer\n",
    "exp = dice_ml.Dice(d, m)\n",
    "\n",
    "# Choose a prediction to explain (e.g., the first test data point)\n",
    "query_instance = X_test.iloc[0:1]\n",
    "\n",
    "# Generate 10 counterfactual examples \n",
    "counterfactuals = exp.generate_counterfactuals(query_instance, total_CFs=10, desired_class='opposite',\n",
    "                                               features_to_vary=['bmi', 'bp', 's1', 's2', 's3', 's4', 's5', 's6'])\n",
    "\n",
    "# List the counterfactual examples\n",
    "counterfactuals.visualize_as_dataframe()\n"
   ]
  }
 ],
 "metadata": {
  "kernelspec": {
   "display_name": "Python 3 (ipykernel)",
   "language": "python",
   "name": "python3"
  },
  "language_info": {
   "codemirror_mode": {
    "name": "ipython",
    "version": 3
   },
   "file_extension": ".py",
   "mimetype": "text/x-python",
   "name": "python",
   "nbconvert_exporter": "python",
   "pygments_lexer": "ipython3",
   "version": "3.9.7"
  }
 },
 "nbformat": 4,
 "nbformat_minor": 4
}
