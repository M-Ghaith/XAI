{
 "cells": [
  {
   "cell_type": "markdown",
   "metadata": {},
   "source": [
    "## Model Robustness at The Model Evaluation Stage: Nested Cross Validation\n",
    "To obtain an unbiased evaluation of model performance (i.e., to prevent overfitting), when optimizing model's hyperparameters we should use Nested Cross Validation.   \n",
    "\n",
    "Here using GridSearch strategy available in sklearn, we implement a nested cross valiation evaluation to optimize the hyperparameters of a random forest classifier. We will use the adapted Diabetes dataset (from sklearn) to the classification in our little experiment. "
   ]
  },
  {
   "cell_type": "markdown",
   "metadata": {},
   "source": [
    "### Importing Packages and Data Preparation"
   ]
  },
  {
   "cell_type": "code",
   "execution_count": 1,
   "metadata": {
    "ExecuteTime": {
     "end_time": "2024-01-10T23:00:07.608697Z",
     "start_time": "2024-01-10T23:00:01.828355Z"
    }
   },
   "outputs": [],
   "source": [
    "import numpy as np\n",
    "import pandas as pd\n",
    "from sklearn.datasets import load_diabetes\n",
    "from sklearn.ensemble import RandomForestClassifier\n",
    "from sklearn.model_selection import GridSearchCV, cross_val_score\n",
    "\n",
    "# Load the Diabetes dataset\n",
    "diabetes_data = load_diabetes()\n",
    "X = pd.DataFrame(diabetes_data.data, columns=diabetes_data.feature_names)\n",
    "y = diabetes_data.target\n",
    "\n",
    "# Set a threshold for binary classification (e.g., using the median of y)\n",
    "threshold = np.median(y)\n",
    "y_binary = (y > threshold).astype(int)  # 1 for high risk, 0 for low risk"
   ]
  },
  {
   "cell_type": "markdown",
   "metadata": {},
   "source": [
    "### Setting up the Hyperparatmeters Set and the Classifer"
   ]
  },
  {
   "cell_type": "code",
   "execution_count": 2,
   "metadata": {
    "ExecuteTime": {
     "end_time": "2024-01-10T23:00:13.149861Z",
     "start_time": "2024-01-10T23:00:13.144253Z"
    }
   },
   "outputs": [],
   "source": [
    "random_state = 42\n",
    "# Define the hyperparameter grid\n",
    "param_grid = {\n",
    "    'n_estimators': [50, 100, 150],\n",
    "    'max_depth': [None, 10, 20, 30],\n",
    "    'min_samples_split': [2, 5, 10],\n",
    "    'min_samples_leaf': [1, 2, 4]\n",
    "}\n",
    "\n",
    "# Initialize the RandomForestClassifier\n",
    "rf = RandomForestClassifier(random_state=random_state)"
   ]
  },
  {
   "cell_type": "markdown",
   "metadata": {},
   "source": [
    "### Setting up the Nested Cross-Validation:"
   ]
  },
  {
   "cell_type": "code",
   "execution_count": 3,
   "metadata": {
    "ExecuteTime": {
     "end_time": "2024-01-10T23:02:32.620022Z",
     "start_time": "2024-01-10T23:02:01.012369Z"
    }
   },
   "outputs": [],
   "source": [
    "# Inner Loop: Set up GridSearchCV with inner cross-validation\n",
    "grid_search = GridSearchCV(estimator=rf, \n",
    "                           param_grid=param_grid, \n",
    "                           cv=5, \n",
    "                           scoring='accuracy', \n",
    "                           n_jobs=-1)\n",
    "\n",
    "# Outer Loop: Perform nested cross-validation with outer cross-validation\n",
    "nested_cv_scores = cross_val_score(grid_search, X, y_binary, cv=5, scoring='accuracy')"
   ]
  },
  {
   "cell_type": "markdown",
   "metadata": {},
   "source": [
    "### Model Evaluation"
   ]
  },
  {
   "cell_type": "code",
   "execution_count": 4,
   "metadata": {
    "ExecuteTime": {
     "end_time": "2024-01-10T23:03:16.413578Z",
     "start_time": "2024-01-10T23:03:16.407636Z"
    }
   },
   "outputs": [
    {
     "name": "stdout",
     "output_type": "stream",
     "text": [
      "Mean Accuracy across Nested Cross-Validation: 0.7148110316649643\n",
      "Standard Deviation of Accuracy across Nested Cross-Validation: 0.03399686906691441\n"
     ]
    }
   ],
   "source": [
    "# Calculate the mean and standard deviation of the nested cross-validation scores\n",
    "mean_nested_cv_score = np.mean(nested_cv_scores)\n",
    "std_nested_cv_score = np.std(nested_cv_scores)\n",
    "\n",
    "print(\"Mean Accuracy across Nested Cross-Validation:\", mean_nested_cv_score)\n",
    "print(\"Standard Deviation of Accuracy across Nested Cross-Validation:\", std_nested_cv_score)\n"
   ]
  },
  {
   "cell_type": "markdown",
   "metadata": {},
   "source": [
    "Use `RandomizedSearchCV` insted of `GridSearchCV` and compare them in terms of computational time and final accuracy of the model."
   ]
  },
  {
   "cell_type": "code",
   "execution_count": 5,
   "metadata": {
    "ExecuteTime": {
     "end_time": "2024-01-10T23:04:24.726601Z",
     "start_time": "2024-01-10T23:03:50.075142Z"
    }
   },
   "outputs": [
    {
     "name": "stdout",
     "output_type": "stream",
     "text": [
      "GridSearchCV Time: 30.506365060806274\n",
      "RandomizedSearchCV Time: 4.141875982284546\n",
      "Mean Accuracy GridSearchCV: 0.7148110316649643\n",
      "Sandard Deviation of GridSearchCV: 0.03399686906691441\n",
      "Mean Accuracy RandomizedSearchCV: 0.7102145045965271\n",
      "Standard Deviation of RandomizedSearchCV: 0.042108095024247144\n"
     ]
    }
   ],
   "source": [
    "import time\n",
    "from sklearn.model_selection import RandomizedSearchCV\n",
    "\n",
    "model_rf = RandomForestClassifier(random_state=random_state)\n",
    "\n",
    "# GridSearchCV vs RandomizedSearchCV, comparing time and accuracy\n",
    "start_time = time.time()\n",
    "grid_search = GridSearchCV(estimator=model_rf, param_grid=param_grid, cv=5, scoring='accuracy', n_jobs=-1)\n",
    "nested_cv_scores_grid = cross_val_score(grid_search, X, y_binary, cv=5, scoring='accuracy')\n",
    "end_time = time.time()\n",
    "grid_search_time = end_time - start_time\n",
    "\n",
    "start_time = time.time()\n",
    "random_search = RandomizedSearchCV(estimator=model_rf, param_distributions=param_grid, n_iter=10, cv=5, scoring='accuracy', n_jobs=-1, random_state=random_state)\n",
    "nested_cv_scores_random = cross_val_score(random_search, X, y_binary, cv=5, scoring='accuracy')\n",
    "end_time = time.time()\n",
    "random_search_time = end_time - start_time\n",
    "\n",
    "print(\"GridSearchCV Time:\", grid_search_time)\n",
    "print(\"RandomizedSearchCV Time:\", random_search_time)\n",
    "print(\"Mean Accuracy GridSearchCV:\", np.mean(nested_cv_scores_grid))\n",
    "print(\"Sandard Deviation of GridSearchCV:\", np.std(nested_cv_scores_grid))\n",
    "print(\"Mean Accuracy RandomizedSearchCV:\", np.mean(nested_cv_scores_random))\n",
    "print(\"Standard Deviation of RandomizedSearchCV:\", np.std(nested_cv_scores_random))\n"
   ]
  },
  {
   "cell_type": "code",
   "execution_count": null,
   "outputs": [],
   "source": [],
   "metadata": {
    "collapsed": false
   }
  }
 ],
 "metadata": {
  "kernelspec": {
   "display_name": "Python 3 (ipykernel)",
   "language": "python",
   "name": "python3"
  },
  "language_info": {
   "codemirror_mode": {
    "name": "ipython",
    "version": 3
   },
   "file_extension": ".py",
   "mimetype": "text/x-python",
   "name": "python",
   "nbconvert_exporter": "python",
   "pygments_lexer": "ipython3",
   "version": "3.9.12"
  }
 },
 "nbformat": 4,
 "nbformat_minor": 2
}
