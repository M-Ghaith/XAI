{
 "cells": [
  {
   "cell_type": "code",
   "execution_count": 1,
   "metadata": {},
   "outputs": [],
   "source": [
    "import numpy as np\n",
    "import pandas as pd\n",
    "from sklearn.datasets import load_diabetes\n",
    "from sklearn.preprocessing import StandardScaler\n",
    "from sklearn.model_selection import train_test_split\n",
    "from sklearn.metrics import accuracy_score\n",
    "import matplotlib.pyplot as plt\n",
    "from sklearn.ensemble import RandomForestClassifier\n"
   ]
  },
  {
   "cell_type": "markdown",
   "metadata": {},
   "source": [
    "Let's use the \"Diabetes\" dataset again and apply the feature importance approach using Random Forests to interpret the importance of features. We'll use scikit-learn to build a Random Forest CLassifier and extract the feature importances."
   ]
  },
  {
   "cell_type": "code",
   "execution_count": 8,
   "metadata": {},
   "outputs": [],
   "source": [
    "random_state = 24\n",
    "\n",
    "# Load the Diabetes dataset\n",
    "diabetes_data = load_diabetes()\n",
    "X = pd.DataFrame(diabetes_data.data, columns=diabetes_data.feature_names)\n",
    "y = diabetes_data.target \n",
    "\n",
    "# binarizing the target\n",
    "y = y>=np.median(y)\n",
    "\n",
    "# Split the data into training and testing sets\n",
    "X_train, X_test, y_train, y_test = train_test_split(X, y, test_size=0.2, random_state=random_state)"
   ]
  },
  {
   "cell_type": "code",
   "execution_count": 9,
   "metadata": {},
   "outputs": [],
   "source": [
    "# Create and fit the Random Forest Regressor model\n",
    "model = RandomForestClassifier(n_estimators=100, random_state=random_state)\n",
    "model.fit(X_train, y_train)\n",
    "\n",
    "# Make predictions on the test set\n",
    "y_pred = model.predict(X_test)"
   ]
  },
  {
   "cell_type": "code",
   "execution_count": 10,
   "metadata": {},
   "outputs": [
    {
     "name": "stdout",
     "output_type": "stream",
     "text": [
      "Classifier Accuracy: 0.7191011235955056\n"
     ]
    }
   ],
   "source": [
    "# Calculate the accuracy\n",
    "acc = accuracy_score(y_test, y_pred)\n",
    "\n",
    "print(f'Classifier Accuracy: {acc}')"
   ]
  },
  {
   "cell_type": "markdown",
   "metadata": {},
   "source": [
    "## Feature Importance in Random Forest\n",
    "\n",
    "The feature importance in Random Forest, is computed by averaging the feature importance for the $i$ th feature across all the $T$ trees in the forest:\n",
    "\n",
    "$F_i^{Forest} = \\frac{\\sum_{j=1}^{T} F_i^j}{T}$\n",
    "\n",
    "The feature importance $F_i$ can be normalized to a value between 0 and 1 by dividing it by the sum of all feature importances across all $P$ features:\n",
    "\n",
    "$\\hat{F}_i^{Forest} = \\frac{F_i^{Forest}}{\\sum_{k=1}^P F_k^{Forest}}$"
   ]
  },
  {
   "cell_type": "code",
   "execution_count": 11,
   "metadata": {},
   "outputs": [],
   "source": [
    "# Retrieve the feature importances and feature names\n",
    "importances = model.feature_importances_\n",
    "feature_names = diabetes_data.feature_names\n",
    "\n",
    "# Create a DataFrame to store the importances with their corresponding feature names\n",
    "importances_df = pd.DataFrame({'Feature': feature_names, 'Importance': importances})\n",
    "\n",
    "# Sort the DataFrame by importance in descending order\n",
    "importances_df = importances_df.reindex(importances_df['Importance'].abs().sort_values(ascending=False).index)"
   ]
  },
  {
   "cell_type": "code",
   "execution_count": 13,
   "metadata": {},
   "outputs": [
    {
     "data": {
      "image/png": "[encoded data removed]",
      "text/plain": [
       "<Figure size 864x432 with 1 Axes>"
      ]
     },
     "metadata": {
      "needs_background": "light"
     },
     "output_type": "display_data"
    }
   ],
   "source": [
    "\n",
    "plt.figure(figsize=(12, 6))\n",
    "plt.subplot(1, 1, 1)\n",
    "plt.bar(importances_df['Feature'], importances_df['Importance'])\n",
    "plt.xticks(rotation=45, ha='right')\n",
    "plt.xlabel('Feature')\n",
    "plt.ylabel('Importance')\n",
    "plt.title('Feature Importance: Random Forest Regressor')\n",
    "plt.tight_layout()\n",
    "plt.show()\n"
   ]
  },
  {
   "cell_type": "markdown",
   "metadata": {},
   "source": [
    "\n",
    "**Exercise 6:** Try different random states when defining the model. How does it affect the final feature importance results?\n",
    "\n"
   ]
  },
  {
   "cell_type": "markdown",
   "metadata": {},
   "source": [
    "Changing the random state in a Random Forest model affects the bootstrapping sampling process for each decision tree, leading to varying feature importance measures. Because Random Forest randomly selects a subset of data for each tree in the forest. Different random states will produce different subsets, affecting the trees that are built. Therefore, feature importance will vary given different random states."
   ]
  },
  {
   "cell_type": "markdown",
   "metadata": {},
   "source": [
    "**Exercise 7:** Research on potential problems with impurity-based feature importance methods in random forest and decision tree."
   ]
  },
  {
   "cell_type": "markdown",
   "metadata": {},
   "source": [
    "impurity-based feature importance in Random Forests and Decision Trees can be misleading because they favor features with more unique values (higher information gain) and can be biased if features are correlated even if both are informative for the outcome variable. They can also be unstable, changing with different random settings, and may not show the full picture like how features interact with each other or their effect direction (positive or negative)."
   ]
  },
  {
   "cell_type": "code",
   "execution_count": null,
   "metadata": {},
   "outputs": [],
   "source": []
  }
 ],
 "metadata": {
  "kernelspec": {
   "display_name": "Python 3 (ipykernel)",
   "language": "python",
   "name": "python3"
  },
  "language_info": {
   "codemirror_mode": {
    "name": "ipython",
    "version": 3
   },
   "file_extension": ".py",
   "mimetype": "text/x-python",
   "name": "python",
   "nbconvert_exporter": "python",
   "pygments_lexer": "ipython3",
   "version": "3.9.12"
  }
 },
 "nbformat": 4,
 "nbformat_minor": 4
}
